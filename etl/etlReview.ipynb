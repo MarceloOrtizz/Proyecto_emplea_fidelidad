{
 "cells": [
  {
   "cell_type": "code",
   "execution_count": 37,
   "metadata": {},
   "outputs": [],
   "source": [
    "import pandas as pd  # Librería para manejo de datos\n",
    "import re  # Librería para expresiones regulares\n"
   ]
  },
  {
   "cell_type": "code",
   "execution_count": 38,
   "metadata": {},
   "outputs": [],
   "source": [
    "df = pd.read_excel(\"../data/raw/scrapingIBM.xlsx\", sheet_name='Datos')"
   ]
  },
  {
   "cell_type": "code",
   "execution_count": 39,
   "metadata": {},
   "outputs": [
    {
     "data": {
      "text/html": [
       "<div>\n",
       "<style scoped>\n",
       "    .dataframe tbody tr th:only-of-type {\n",
       "        vertical-align: middle;\n",
       "    }\n",
       "\n",
       "    .dataframe tbody tr th {\n",
       "        vertical-align: top;\n",
       "    }\n",
       "\n",
       "    .dataframe thead th {\n",
       "        text-align: right;\n",
       "    }\n",
       "</style>\n",
       "<table border=\"1\" class=\"dataframe\">\n",
       "  <thead>\n",
       "    <tr style=\"text-align: right;\">\n",
       "      <th></th>\n",
       "      <th>REVIEW_TITLE</th>\n",
       "      <th>SCORE</th>\n",
       "      <th>ROLE</th>\n",
       "      <th>PROS</th>\n",
       "      <th>CONS</th>\n",
       "      <th>DATE</th>\n",
       "      <th>STATUS</th>\n",
       "      <th>LOCATION</th>\n",
       "    </tr>\n",
       "  </thead>\n",
       "  <tbody>\n",
       "    <tr>\n",
       "      <th>0</th>\n",
       "      <td>Buena compañia</td>\n",
       "      <td>4</td>\n",
       "      <td>Project Manager</td>\n",
       "      <td>Mucha capacitacion opciones de crecimiento y p...</td>\n",
       "      <td>Largas jornadas de trabajo durante semana y fi...</td>\n",
       "      <td>2021-05-27</td>\n",
       "      <td>Current Employee, more than 1 year</td>\n",
       "      <td>Monterrey, Nuevo León</td>\n",
       "    </tr>\n",
       "    <tr>\n",
       "      <th>1</th>\n",
       "      <td>Una empresa que podría ser mejor con sus emple...</td>\n",
       "      <td>3</td>\n",
       "      <td>Técnico De Pruebas</td>\n",
       "      <td>Buenas prestaciones, oportunidad de crecimiento.</td>\n",
       "      <td>Los puestos son heredados a amigos o conocidos...</td>\n",
       "      <td>2021-07-29</td>\n",
       "      <td>Current Employee</td>\n",
       "      <td>El Salto, Jalisco</td>\n",
       "    </tr>\n",
       "    <tr>\n",
       "      <th>2</th>\n",
       "      <td>buena experiencia buen trabajoa con salario po...</td>\n",
       "      <td>3</td>\n",
       "      <td>Analista Contable</td>\n",
       "      <td>flexibilidad horaria y trabajo desde casa iiii...</td>\n",
       "      <td>salario bajo</td>\n",
       "      <td>2017-06-20</td>\n",
       "      <td>Current Employee</td>\n",
       "      <td>Martínez</td>\n",
       "    </tr>\n",
       "  </tbody>\n",
       "</table>\n",
       "</div>"
      ],
      "text/plain": [
       "                                        REVIEW_TITLE  SCORE  \\\n",
       "0                                     Buena compañia      4   \n",
       "1  Una empresa que podría ser mejor con sus emple...      3   \n",
       "2  buena experiencia buen trabajoa con salario po...      3   \n",
       "\n",
       "                 ROLE                                               PROS  \\\n",
       "0     Project Manager  Mucha capacitacion opciones de crecimiento y p...   \n",
       "1  Técnico De Pruebas   Buenas prestaciones, oportunidad de crecimiento.   \n",
       "2   Analista Contable  flexibilidad horaria y trabajo desde casa iiii...   \n",
       "\n",
       "                                                CONS       DATE  \\\n",
       "0  Largas jornadas de trabajo durante semana y fi... 2021-05-27   \n",
       "1  Los puestos son heredados a amigos o conocidos... 2021-07-29   \n",
       "2                                       salario bajo 2017-06-20   \n",
       "\n",
       "                               STATUS               LOCATION  \n",
       "0  Current Employee, more than 1 year  Monterrey, Nuevo León  \n",
       "1                    Current Employee      El Salto, Jalisco  \n",
       "2                    Current Employee               Martínez  "
      ]
     },
     "execution_count": 39,
     "metadata": {},
     "output_type": "execute_result"
    }
   ],
   "source": [
    "df.head(3)"
   ]
  },
  {
   "cell_type": "code",
   "execution_count": 40,
   "metadata": {},
   "outputs": [
    {
     "data": {
      "text/plain": [
       "(3069, 8)"
      ]
     },
     "execution_count": 40,
     "metadata": {},
     "output_type": "execute_result"
    }
   ],
   "source": [
    "df.describe()"
   ]
  },
  {
   "cell_type": "code",
   "execution_count": 41,
   "metadata": {},
   "outputs": [
    {
     "data": {
      "text/plain": [
       "(3069, 8)"
      ]
     },
     "execution_count": 41,
     "metadata": {},
     "output_type": "execute_result"
    }
   ],
   "source": [
    "df.shape"
   ]
  },
  {
   "cell_type": "code",
   "execution_count": 65,
   "metadata": {},
   "outputs": [
    {
     "data": {
      "text/plain": [
       "11"
      ]
     },
     "execution_count": 65,
     "metadata": {},
     "output_type": "execute_result"
    }
   ],
   "source": [
    "df.isnull().sum().sum()"
   ]
  },
  {
   "cell_type": "code",
   "execution_count": 43,
   "metadata": {},
   "outputs": [
    {
     "data": {
      "text/plain": [
       "78"
      ]
     },
     "execution_count": 43,
     "metadata": {},
     "output_type": "execute_result"
    }
   ],
   "source": [
    "df.duplicated().sum()"
   ]
  },
  {
   "cell_type": "code",
   "execution_count": 44,
   "metadata": {},
   "outputs": [],
   "source": [
    "df['LOCATION'] = df['LOCATION'].fillna('Unknown')"
   ]
  },
  {
   "cell_type": "code",
   "execution_count": 45,
   "metadata": {},
   "outputs": [
    {
     "data": {
      "text/plain": [
       "11"
      ]
     },
     "execution_count": 45,
     "metadata": {},
     "output_type": "execute_result"
    }
   ],
   "source": [
    "df.isnull().sum().sum()"
   ]
  },
  {
   "cell_type": "code",
   "execution_count": 58,
   "metadata": {},
   "outputs": [
    {
     "data": {
      "text/html": [
       "<div>\n",
       "<style scoped>\n",
       "    .dataframe tbody tr th:only-of-type {\n",
       "        vertical-align: middle;\n",
       "    }\n",
       "\n",
       "    .dataframe tbody tr th {\n",
       "        vertical-align: top;\n",
       "    }\n",
       "\n",
       "    .dataframe thead th {\n",
       "        text-align: right;\n",
       "    }\n",
       "</style>\n",
       "<table border=\"1\" class=\"dataframe\">\n",
       "  <thead>\n",
       "    <tr style=\"text-align: right;\">\n",
       "      <th></th>\n",
       "      <th>REVIEW_TITLE</th>\n",
       "      <th>SCORE</th>\n",
       "      <th>ROLE</th>\n",
       "      <th>PROS</th>\n",
       "      <th>CONS</th>\n",
       "      <th>DATE</th>\n",
       "      <th>STATUS</th>\n",
       "      <th>LOCATION</th>\n",
       "    </tr>\n",
       "  </thead>\n",
       "  <tbody>\n",
       "    <tr>\n",
       "      <th>2236</th>\n",
       "      <td>Una experiencia de momentos olvidable</td>\n",
       "      <td>4</td>\n",
       "      <td>Administrador De Backup</td>\n",
       "      <td>Formación, posibilidad de crecimiento, certifi...</td>\n",
       "      <td>Trato humano inexistente, sueldos pauperrimos</td>\n",
       "      <td>2022-01-17</td>\n",
       "      <td>Former Employee, More Than 5 Years</td>\n",
       "      <td>Olivos</td>\n",
       "    </tr>\n",
       "    <tr>\n",
       "      <th>495</th>\n",
       "      <td>Excellent</td>\n",
       "      <td>5</td>\n",
       "      <td>Senior Project Manager</td>\n",
       "      <td>Benefits, payment; life balance, work place, c...</td>\n",
       "      <td>Tiempo, distancia, experiencia, clima, idiomas</td>\n",
       "      <td>2021-03-22</td>\n",
       "      <td>Current Employee, More Than 10 Years</td>\n",
       "      <td>Buenos Aires</td>\n",
       "    </tr>\n",
       "    <tr>\n",
       "      <th>2804</th>\n",
       "      <td>Excelente</td>\n",
       "      <td>5</td>\n",
       "      <td>Digital Strategy Consultant</td>\n",
       "      <td>Buena cultura de empresa, americana, muy moder...</td>\n",
       "      <td>No veo ninguna desventaja reseñable desde mi p...</td>\n",
       "      <td>2021-02-23</td>\n",
       "      <td>Current Employee, More Than 3 Years</td>\n",
       "      <td>Madrid</td>\n",
       "    </tr>\n",
       "  </tbody>\n",
       "</table>\n",
       "</div>"
      ],
      "text/plain": [
       "                               REVIEW_TITLE  SCORE  \\\n",
       "2236  Una experiencia de momentos olvidable      4   \n",
       "495                               Excellent      5   \n",
       "2804                              Excelente      5   \n",
       "\n",
       "                             ROLE  \\\n",
       "2236      Administrador De Backup   \n",
       "495        Senior Project Manager   \n",
       "2804  Digital Strategy Consultant   \n",
       "\n",
       "                                                   PROS  \\\n",
       "2236  Formación, posibilidad de crecimiento, certifi...   \n",
       "495   Benefits, payment; life balance, work place, c...   \n",
       "2804  Buena cultura de empresa, americana, muy moder...   \n",
       "\n",
       "                                                   CONS       DATE  \\\n",
       "2236      Trato humano inexistente, sueldos pauperrimos 2022-01-17   \n",
       "495      Tiempo, distancia, experiencia, clima, idiomas 2021-03-22   \n",
       "2804  No veo ninguna desventaja reseñable desde mi p... 2021-02-23   \n",
       "\n",
       "                                    STATUS      LOCATION  \n",
       "2236    Former Employee, More Than 5 Years        Olivos  \n",
       "495   Current Employee, More Than 10 Years  Buenos Aires  \n",
       "2804   Current Employee, More Than 3 Years        Madrid  "
      ]
     },
     "execution_count": 58,
     "metadata": {},
     "output_type": "execute_result"
    }
   ],
   "source": [
    "df.sample(n=3)"
   ]
  },
  {
   "cell_type": "code",
   "execution_count": 53,
   "metadata": {},
   "outputs": [],
   "source": [
    "df['LOCATION'] = df['LOCATION'].str.title()\n",
    "df['STATUS'] = df['STATUS'].str.title()\n"
   ]
  },
  {
   "cell_type": "code",
   "execution_count": 54,
   "metadata": {},
   "outputs": [
    {
     "data": {
      "text/plain": [
       "ROLE\n",
       "Anonymous Employee                    276\n",
       "Software Developer                     71\n",
       "Project Manager                        69\n",
       "Application Developer                  64\n",
       "Business Analyst                       51\n",
       "                                     ... \n",
       "IT Support Technician                   1\n",
       "Software Tester Specialist              1\n",
       "Administrative/Executive Assistant      1\n",
       "Software Application Developer          1\n",
       "Frontend                                1\n",
       "Name: count, Length: 1166, dtype: int64"
      ]
     },
     "execution_count": 54,
     "metadata": {},
     "output_type": "execute_result"
    }
   ],
   "source": [
    "role_counts = df['ROLE'].value_counts()\n",
    "role_counts"
   ]
  },
  {
   "cell_type": "code",
   "execution_count": 55,
   "metadata": {},
   "outputs": [
    {
     "data": {
      "text/plain": [
       "STATUS\n",
       "Current Employee                        1143\n",
       "Current Employee, More Than 1 Year       352\n",
       "Former Employee                          325\n",
       "Current Employee, Less Than 1 Year       214\n",
       "Current Employee, More Than 3 Years      212\n",
       "Former Employee, More Than 1 Year        153\n",
       "Current Employee, More Than 5 Years      130\n",
       "Former Employee, More Than 3 Years       107\n",
       "Former Employee, Less Than 1 Year         92\n",
       "Current Employee, More Than 10 Years      89\n",
       "Current Employee, More Than 8 Years       86\n",
       "Former Employee, More Than 5 Years        58\n",
       "Former Employee, More Than 10 Years       49\n",
       "Former Employee, More Than 8 Years        47\n",
       "Former Employee, More Than 2 Years         6\n",
       "Former Employee, More Than 6 Years         3\n",
       "Former Employee, More Than 9 Years         2\n",
       "Former Employee, More Than 7 Years         1\n",
       "Name: count, dtype: int64"
      ]
     },
     "execution_count": 55,
     "metadata": {},
     "output_type": "execute_result"
    }
   ],
   "source": [
    "status_counts = df['STATUS'].value_counts()\n",
    "status_counts"
   ]
  },
  {
   "cell_type": "code",
   "execution_count": 18,
   "metadata": {},
   "outputs": [
    {
     "data": {
      "text/html": [
       "<div>\n",
       "<style scoped>\n",
       "    .dataframe tbody tr th:only-of-type {\n",
       "        vertical-align: middle;\n",
       "    }\n",
       "\n",
       "    .dataframe tbody tr th {\n",
       "        vertical-align: top;\n",
       "    }\n",
       "\n",
       "    .dataframe thead th {\n",
       "        text-align: right;\n",
       "    }\n",
       "</style>\n",
       "<table border=\"1\" class=\"dataframe\">\n",
       "  <thead>\n",
       "    <tr style=\"text-align: right;\">\n",
       "      <th></th>\n",
       "      <th>REVIEW_TITLE</th>\n",
       "      <th>SCORE</th>\n",
       "      <th>ROLE</th>\n",
       "      <th>PROS</th>\n",
       "      <th>CONS</th>\n",
       "      <th>DATE</th>\n",
       "      <th>STATUS</th>\n",
       "      <th>LOCATION</th>\n",
       "    </tr>\n",
       "  </thead>\n",
       "  <tbody>\n",
       "    <tr>\n",
       "      <th>0</th>\n",
       "      <td>Buena compañia</td>\n",
       "      <td>4</td>\n",
       "      <td>Project Manager</td>\n",
       "      <td>Mucha capacitacion opciones de crecimiento y p...</td>\n",
       "      <td>Largas jornadas de trabajo durante semana y fi...</td>\n",
       "      <td>2021-05-27</td>\n",
       "      <td>Current Employee, More Than 1 Year</td>\n",
       "      <td>Monterrey, Nuevo León</td>\n",
       "    </tr>\n",
       "    <tr>\n",
       "      <th>1</th>\n",
       "      <td>Una empresa que podría ser mejor con sus emple...</td>\n",
       "      <td>3</td>\n",
       "      <td>Técnico De Pruebas</td>\n",
       "      <td>Buenas prestaciones, oportunidad de crecimiento.</td>\n",
       "      <td>Los puestos son heredados a amigos o conocidos...</td>\n",
       "      <td>2021-07-29</td>\n",
       "      <td>Current Employee</td>\n",
       "      <td>El Salto, Jalisco</td>\n",
       "    </tr>\n",
       "    <tr>\n",
       "      <th>2</th>\n",
       "      <td>buena experiencia buen trabajoa con salario po...</td>\n",
       "      <td>3</td>\n",
       "      <td>Analista Contable</td>\n",
       "      <td>flexibilidad horaria y trabajo desde casa iiii...</td>\n",
       "      <td>salario bajo</td>\n",
       "      <td>2017-06-20</td>\n",
       "      <td>Current Employee</td>\n",
       "      <td>Martínez</td>\n",
       "    </tr>\n",
       "    <tr>\n",
       "      <th>3</th>\n",
       "      <td>Buen lugar para trabajar</td>\n",
       "      <td>5</td>\n",
       "      <td>Offering Manager</td>\n",
       "      <td>Buenas prestaciones, salario por encima del me...</td>\n",
       "      <td>Distancia de las oficinas, burocracia.</td>\n",
       "      <td>2019-08-08</td>\n",
       "      <td>Current Employee, More Than 5 Years</td>\n",
       "      <td>Guadalajara, Jalisco</td>\n",
       "    </tr>\n",
       "    <tr>\n",
       "      <th>4</th>\n",
       "      <td>Bien pero con incertidumbre</td>\n",
       "      <td>4</td>\n",
       "      <td>Programador Web</td>\n",
       "      <td>Muy buen ambiente de trabajo aprendí muchísimo</td>\n",
       "      <td>A cada rato hay recortes cada Q hay incertidum...</td>\n",
       "      <td>2019-09-23</td>\n",
       "      <td>Former Employee, More Than 5 Years</td>\n",
       "      <td>Unknown</td>\n",
       "    </tr>\n",
       "    <tr>\n",
       "      <th>...</th>\n",
       "      <td>...</td>\n",
       "      <td>...</td>\n",
       "      <td>...</td>\n",
       "      <td>...</td>\n",
       "      <td>...</td>\n",
       "      <td>...</td>\n",
       "      <td>...</td>\n",
       "      <td>...</td>\n",
       "    </tr>\n",
       "    <tr>\n",
       "      <th>3064</th>\n",
       "      <td>Buena empresa para crecer</td>\n",
       "      <td>4</td>\n",
       "      <td>Test Engineer</td>\n",
       "      <td>Gran ambiente de trabajo con buena flexibilida...</td>\n",
       "      <td>El campus de Guadalajara está muy retirado de ...</td>\n",
       "      <td>2020-02-21</td>\n",
       "      <td>Current Employee, More Than 1 Year</td>\n",
       "      <td>El Salto, Jalisco</td>\n",
       "    </tr>\n",
       "    <tr>\n",
       "      <th>3065</th>\n",
       "      <td>Gran experiencia en multinacional</td>\n",
       "      <td>4</td>\n",
       "      <td>Senior Accounting Analyst</td>\n",
       "      <td>Organización, ambiente relajado. Gran crecimie...</td>\n",
       "      <td>Al ser tan grande aveces se pierde la individu...</td>\n",
       "      <td>2020-03-16</td>\n",
       "      <td>Former Employee, More Than 5 Years</td>\n",
       "      <td>Buenos Aires</td>\n",
       "    </tr>\n",
       "    <tr>\n",
       "      <th>3066</th>\n",
       "      <td>Esperaría algo mejor</td>\n",
       "      <td>3</td>\n",
       "      <td>Application Developer</td>\n",
       "      <td>Constante aprendizaje, gente preparada, buenas...</td>\n",
       "      <td>Depende del proyecto en el que estés que tan b...</td>\n",
       "      <td>2020-05-26</td>\n",
       "      <td>Current Employee, More Than 1 Year</td>\n",
       "      <td>Ciudad De Mexico</td>\n",
       "    </tr>\n",
       "    <tr>\n",
       "      <th>3067</th>\n",
       "      <td>Buen ambiente laboral, empresa 100% recomendable</td>\n",
       "      <td>5</td>\n",
       "      <td>Account Manager</td>\n",
       "      <td>Planes de salud y mejoras en los beneficios gl...</td>\n",
       "      <td>No mucho para comentar, el horario y no politi...</td>\n",
       "      <td>2020-07-17</td>\n",
       "      <td>Current Employee, More Than 8 Years</td>\n",
       "      <td>Montevideo</td>\n",
       "    </tr>\n",
       "    <tr>\n",
       "      <th>3068</th>\n",
       "      <td>Excelente</td>\n",
       "      <td>4</td>\n",
       "      <td>IT Architect</td>\n",
       "      <td>Excelente lugar para desarrollarte aprender y ...</td>\n",
       "      <td>Segun que posición , los sueldos pueden no ser...</td>\n",
       "      <td>2020-08-31</td>\n",
       "      <td>Current Employee</td>\n",
       "      <td>Buenos Aires</td>\n",
       "    </tr>\n",
       "  </tbody>\n",
       "</table>\n",
       "<p>3069 rows × 8 columns</p>\n",
       "</div>"
      ],
      "text/plain": [
       "                                           REVIEW_TITLE  SCORE  \\\n",
       "0                                        Buena compañia      4   \n",
       "1     Una empresa que podría ser mejor con sus emple...      3   \n",
       "2     buena experiencia buen trabajoa con salario po...      3   \n",
       "3                              Buen lugar para trabajar      5   \n",
       "4                           Bien pero con incertidumbre      4   \n",
       "...                                                 ...    ...   \n",
       "3064                          Buena empresa para crecer      4   \n",
       "3065                  Gran experiencia en multinacional      4   \n",
       "3066                               Esperaría algo mejor      3   \n",
       "3067   Buen ambiente laboral, empresa 100% recomendable      5   \n",
       "3068                                          Excelente      4   \n",
       "\n",
       "                           ROLE  \\\n",
       "0               Project Manager   \n",
       "1            Técnico De Pruebas   \n",
       "2             Analista Contable   \n",
       "3              Offering Manager   \n",
       "4               Programador Web   \n",
       "...                         ...   \n",
       "3064              Test Engineer   \n",
       "3065  Senior Accounting Analyst   \n",
       "3066      Application Developer   \n",
       "3067            Account Manager   \n",
       "3068               IT Architect   \n",
       "\n",
       "                                                   PROS  \\\n",
       "0     Mucha capacitacion opciones de crecimiento y p...   \n",
       "1      Buenas prestaciones, oportunidad de crecimiento.   \n",
       "2     flexibilidad horaria y trabajo desde casa iiii...   \n",
       "3     Buenas prestaciones, salario por encima del me...   \n",
       "4        Muy buen ambiente de trabajo aprendí muchísimo   \n",
       "...                                                 ...   \n",
       "3064  Gran ambiente de trabajo con buena flexibilida...   \n",
       "3065  Organización, ambiente relajado. Gran crecimie...   \n",
       "3066  Constante aprendizaje, gente preparada, buenas...   \n",
       "3067  Planes de salud y mejoras en los beneficios gl...   \n",
       "3068  Excelente lugar para desarrollarte aprender y ...   \n",
       "\n",
       "                                                   CONS       DATE  \\\n",
       "0     Largas jornadas de trabajo durante semana y fi... 2021-05-27   \n",
       "1     Los puestos son heredados a amigos o conocidos... 2021-07-29   \n",
       "2                                          salario bajo 2017-06-20   \n",
       "3                Distancia de las oficinas, burocracia. 2019-08-08   \n",
       "4     A cada rato hay recortes cada Q hay incertidum... 2019-09-23   \n",
       "...                                                 ...        ...   \n",
       "3064  El campus de Guadalajara está muy retirado de ... 2020-02-21   \n",
       "3065  Al ser tan grande aveces se pierde la individu... 2020-03-16   \n",
       "3066  Depende del proyecto en el que estés que tan b... 2020-05-26   \n",
       "3067  No mucho para comentar, el horario y no politi... 2020-07-17   \n",
       "3068  Segun que posición , los sueldos pueden no ser... 2020-08-31   \n",
       "\n",
       "                                   STATUS               LOCATION  \n",
       "0      Current Employee, More Than 1 Year  Monterrey, Nuevo León  \n",
       "1                        Current Employee      El Salto, Jalisco  \n",
       "2                        Current Employee               Martínez  \n",
       "3     Current Employee, More Than 5 Years   Guadalajara, Jalisco  \n",
       "4      Former Employee, More Than 5 Years                Unknown  \n",
       "...                                   ...                    ...  \n",
       "3064   Current Employee, More Than 1 Year      El Salto, Jalisco  \n",
       "3065   Former Employee, More Than 5 Years           Buenos Aires  \n",
       "3066   Current Employee, More Than 1 Year       Ciudad De Mexico  \n",
       "3067  Current Employee, More Than 8 Years             Montevideo  \n",
       "3068                     Current Employee           Buenos Aires  \n",
       "\n",
       "[3069 rows x 8 columns]"
      ]
     },
     "execution_count": 18,
     "metadata": {},
     "output_type": "execute_result"
    }
   ],
   "source": [
    "df"
   ]
  },
  {
   "cell_type": "code",
   "execution_count": 63,
   "metadata": {},
   "outputs": [],
   "source": [
    "df1=df.drop_duplicates()"
   ]
  },
  {
   "cell_type": "code",
   "execution_count": 64,
   "metadata": {},
   "outputs": [
    {
     "data": {
      "text/plain": [
       "(2991, 8)"
      ]
     },
     "execution_count": 64,
     "metadata": {},
     "output_type": "execute_result"
    }
   ],
   "source": [
    "df1.shape"
   ]
  }
 ],
 "metadata": {
  "kernelspec": {
   "display_name": "Python 3",
   "language": "python",
   "name": "python3"
  },
  "language_info": {
   "codemirror_mode": {
    "name": "ipython",
    "version": 3
   },
   "file_extension": ".py",
   "mimetype": "text/x-python",
   "name": "python",
   "nbconvert_exporter": "python",
   "pygments_lexer": "ipython3",
   "version": "3.12.3"
  }
 },
 "nbformat": 4,
 "nbformat_minor": 2
}

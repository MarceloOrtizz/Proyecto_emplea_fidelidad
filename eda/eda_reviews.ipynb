
import matplotlib.pyplot as plt
import seaborn as sns

# Convertir la columna 'DATE' a tipo datetime
print('Convirtiendo la columna DATE a tipo datetime...')
df['DATE'] = pd.to_datetime(df['DATE'], errors='coerce')

# Descripción general del dataframe
print('Descripción general del dataframe:')
print(df.describe(include='all'))

# Distribución de las puntuaciones (SCORE)
plt.figure(figsize=(10, 6))
sns.countplot(x='SCORE', data=df)
plt.title('Distribución de las Puntuaciones (SCORE)')
plt.xlabel('Puntuación')
plt.ylabel('Frecuencia')
plt.show()

# Distribución de los roles (ROLE)
plt.figure(figsize=(10, 6))
df['ROLE'].value_counts().head(10).plot(kind='bar')
plt.title('Top 10 Roles más Comunes')
plt.xlabel('Rol')
plt.ylabel('Frecuencia')
plt.show()

# Distribución de las fechas de las reseñas
plt.figure(figsize=(10, 6))
df['DATE'].dt.year.value_counts().sort_index().plot(kind='bar')
plt.title('Distribución de las Fechas de las Reseñas por Año')
plt.xlabel('Año')
plt.ylabel('Número de Reseñas')
plt.show()

# Análisis de las ubicaciones (LOCATION)
plt.figure(figsize=(10, 6))
df['LOCATION'].value_counts().head(10).plot(kind='bar')
plt.title('Top 10 Ubicaciones más Comunes')
plt.xlabel('Ubicación')
plt.ylabel('Frecuencia')
plt.show()

print('Análisis exploratorio completado.')

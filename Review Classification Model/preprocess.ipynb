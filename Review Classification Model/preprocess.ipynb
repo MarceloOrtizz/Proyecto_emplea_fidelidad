{
 "cells": [
  {
   "cell_type": "markdown",
   "id": "b59260c5-9740-4282-b919-db20e470995d",
   "metadata": {},
   "source": [
    "## Libraries"
   ]
  },
  {
   "cell_type": "code",
   "execution_count": 19,
   "id": "1ecaf3f6-2fe5-4d63-ad04-03a39a53eb96",
   "metadata": {},
   "outputs": [
    {
     "name": "stderr",
     "output_type": "stream",
     "text": [
      "[nltk_data] Downloading package punkt to /root/nltk_data...\n",
      "[nltk_data]   Package punkt is already up-to-date!\n"
     ]
    },
    {
     "data": {
      "text/plain": [
       "True"
      ]
     },
     "execution_count": 19,
     "metadata": {},
     "output_type": "execute_result"
    }
   ],
   "source": [
    "import os\n",
    "import sys\n",
    "import pandas as pd\n",
    "import spacy\n",
    "\n",
    "import nltk\n",
    "nltk.download('punkt')"
   ]
  },
  {
   "cell_type": "code",
   "execution_count": 20,
   "id": "cf038378-d855-488d-abcd-b48a99bcbf64",
   "metadata": {},
   "outputs": [],
   "source": [
    "currentFolder = os.getcwd()\n",
    "utilsFolder = os.path.join(currentFolder, 'utils')"
   ]
  },
  {
   "cell_type": "code",
   "execution_count": 21,
   "id": "2462a807-ebd7-4ce3-9b04-6fbfaab29289",
   "metadata": {},
   "outputs": [],
   "source": [
    "sys.path.insert(0, utilsFolder)\n",
    "\n",
    "for file_ in os.listdir(utilsFolder):\n",
    "    if file_.endswith('.py'):\n",
    "        if file_.split('.')[0] not in ['__init__']:\n",
    "            func_ = file_.split('.')[0]\n",
    "            exec(\"from {} import {}\".format(func_, func_))"
   ]
  },
  {
   "cell_type": "code",
   "execution_count": null,
   "id": "934778f4-80da-4010-a7bb-53fecdd783a0",
   "metadata": {},
   "outputs": [],
   "source": []
  },
  {
   "cell_type": "code",
   "execution_count": 22,
   "id": "da3b5aaf-adc6-4569-8032-eac3bad6f937",
   "metadata": {},
   "outputs": [],
   "source": [
    "rawData = pd.read_csv(os.path.join(currentFolder, 'reviewClean.csv'), sep = '|')"
   ]
  },
  {
   "cell_type": "code",
   "execution_count": 23,
   "id": "73c49928-b891-4901-a22a-ea3855710937",
   "metadata": {},
   "outputs": [],
   "source": [
    "rawData = rawData[['PROS', 'CONS']]"
   ]
  },
  {
   "cell_type": "code",
   "execution_count": 24,
   "id": "226ec66d-61fa-49f8-a673-3c0897a85cec",
   "metadata": {},
   "outputs": [],
   "source": [
    "# generate_wordcloud(df = rawData, name_column_text= \"CONS\")"
   ]
  },
  {
   "cell_type": "markdown",
   "id": "6fd4b159-a82d-457c-9181-ed387fef0a25",
   "metadata": {},
   "source": [
    "## Preprocess Text"
   ]
  },
  {
   "cell_type": "code",
   "execution_count": 25,
   "id": "8afef304-bebd-456f-98c1-07f44ff70f04",
   "metadata": {},
   "outputs": [],
   "source": [
    "from nltk.tokenize import word_tokenize\n",
    "\n",
    "def tokenize(text: str):\n",
    "    \"\"\"This method is used to tokenize the text\"\"\"\n",
    "    tokens = word_tokenize(text.lower(), language='spanish')\n",
    "    return tokens"
   ]
  },
  {
   "cell_type": "code",
   "execution_count": 26,
   "id": "f3b1ce13-e8b3-44af-9ba5-d634b4345a49",
   "metadata": {},
   "outputs": [],
   "source": [
    "def preprocess_data(df, columnName:str):\n",
    "    text_without_stopwords = df[columnName].apply(lambda x: remove_stopwords(x))\n",
    "    tokenized_text = text_without_stopwords.apply(lambda x: tokenize(x))\n",
    "    tokenized_text = tokenized_text.apply(lambda x: [remove_initial_consec(i) for i in x])\n",
    "    text_lemma = tokenized_text.apply(lambda x: lemmatize(x))\n",
    "    pos_tagging_tokens = text_lemma.apply(lambda x: pos_tagging(x))\n",
    "    return pos_tagging_tokens"
   ]
  },
  {
   "cell_type": "code",
   "execution_count": 27,
   "id": "07470f95-4ed7-4934-8cfa-2c58aa926dc2",
   "metadata": {},
   "outputs": [],
   "source": [
    "rawData['PRE_PROS'] = preprocess_data(rawData, 'PROS')\n",
    "rawData['PRE_CONS'] = preprocess_data(rawData, 'CONS')"
   ]
  },
  {
   "cell_type": "code",
   "execution_count": 28,
   "id": "5592c629-ff52-4bc2-907a-7214c8b3064e",
   "metadata": {},
   "outputs": [],
   "source": [
    "rawData.to_parquet(os.path.join(currentFolder, 'preprocessedData.parquet'))"
   ]
  }
 ],
 "metadata": {
  "kernelspec": {
   "display_name": "Python 3 (ipykernel)",
   "language": "python",
   "name": "python3"
  },
  "language_info": {
   "codemirror_mode": {
    "name": "ipython",
    "version": 3
   },
   "file_extension": ".py",
   "mimetype": "text/x-python",
   "name": "python",
   "nbconvert_exporter": "python",
   "pygments_lexer": "ipython3",
   "version": "3.8.19"
  }
 },
 "nbformat": 4,
 "nbformat_minor": 5
}
